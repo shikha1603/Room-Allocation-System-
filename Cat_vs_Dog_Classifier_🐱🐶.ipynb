{
  "nbformat": 4,
  "nbformat_minor": 0,
  "metadata": {
    "colab": {
      "provenance": [],
      "authorship_tag": "ABX9TyPyfmXFDerIig8zsyr7/nbN",
      "include_colab_link": true
    },
    "kernelspec": {
      "name": "python3",
      "display_name": "Python 3"
    },
    "language_info": {
      "name": "python"
    }
  },
  "cells": [
    {
      "cell_type": "markdown",
      "metadata": {
        "id": "view-in-github",
        "colab_type": "text"
      },
      "source": [
        "<a href=\"https://colab.research.google.com/github/shikha1603/Room-Allocation-System-/blob/main/Cat_vs_Dog_Classifier_%F0%9F%90%B1%F0%9F%90%B6.ipynb\" target=\"_parent\"><img src=\"https://colab.research.google.com/assets/colab-badge.svg\" alt=\"Open In Colab\"/></a>"
      ]
    },
    {
      "cell_type": "code",
      "execution_count": 25,
      "metadata": {
        "colab": {
          "base_uri": "https://localhost:8080/"
        },
        "id": "z2xxyqJxQQR2",
        "outputId": "92c695b7-055d-4e76-800f-71c767d3d232"
      },
      "outputs": [
        {
          "output_type": "stream",
          "name": "stdout",
          "text": [
            "Base Directory: /content/cats_and_dogs_filtered\n",
            "Train Directory: /content/cats_and_dogs_filtered/train\n",
            "Validation Directory: /content/cats_and_dogs_filtered/validation\n"
          ]
        }
      ],
      "source": [
        "import os\n",
        "import zipfile\n",
        "\n",
        "# ✅ Download the zip file\n",
        "zip_path = tf.keras.utils.get_file(\n",
        "    'cats_and_dogs_filtered.zip',\n",
        "    origin='https://storage.googleapis.com/mledu-datasets/cats_and_dogs_filtered.zip',\n",
        "    extract=False\n",
        ")\n",
        "\n",
        "# ✅ Manually extract it to /content\n",
        "with zipfile.ZipFile(zip_path, 'r') as zip_ref:\n",
        "    zip_ref.extractall('/content/')\n",
        "\n",
        "# ✅ Set correct paths manually\n",
        "base_dir = '/content/cats_and_dogs_filtered'\n",
        "train_dir = os.path.join(base_dir, 'train')\n",
        "validation_dir = os.path.join(base_dir, 'validation')\n",
        "\n",
        "# ✅ Debug print paths\n",
        "print(\"Base Directory:\", base_dir)\n",
        "print(\"Train Directory:\", train_dir)\n",
        "print(\"Validation Directory:\", validation_dir)\n"
      ]
    },
    {
      "cell_type": "code",
      "source": [
        "# 👇 Reuse this for your data generators\n",
        "train_generator = train_datagen.flow_from_directory(\n",
        "    train_dir,\n",
        "    target_size=(150, 150),\n",
        "    batch_size=32,\n",
        "    class_mode='binary'\n",
        ")\n",
        "\n",
        "val_generator = val_datagen.flow_from_directory(\n",
        "    validation_dir,\n",
        "    target_size=(150, 150),\n",
        "    batch_size=32,\n",
        "    class_mode='binary'\n",
        ")\n"
      ],
      "metadata": {
        "colab": {
          "base_uri": "https://localhost:8080/"
        },
        "id": "sho4WQhmSKJA",
        "outputId": "a460f1a3-34c7-4fbe-c230-aa3ccc787ad5"
      },
      "execution_count": 26,
      "outputs": [
        {
          "output_type": "stream",
          "name": "stdout",
          "text": [
            "Found 2000 images belonging to 2 classes.\n",
            "Found 1000 images belonging to 2 classes.\n"
          ]
        }
      ]
    },
    {
      "cell_type": "code",
      "source": [
        "import zipfile\n",
        "import os\n",
        "\n",
        "# Path to the uploaded file\n",
        "uploaded_file_path = '/content/cats_and_dogs_filtered.zip'\n",
        "\n",
        "# Path where the dataset will be extracted\n",
        "extracted_folder_path = '/content/cats_and_dogs_filtered/'\n",
        "\n",
        "# Extract the file\n",
        "with zipfile.ZipFile(uploaded_file_path, 'r') as zip_ref:\n",
        "    zip_ref.extractall(extracted_folder_path)\n",
        "\n",
        "# Verify extraction\n",
        "print(f\"Dataset extracted to: {extracted_folder_path}\")\n"
      ],
      "metadata": {
        "colab": {
          "base_uri": "https://localhost:8080/"
        },
        "id": "PJ7WFTB4SnIj",
        "outputId": "d4e69827-3a44-40fa-d17c-518c9e38b227"
      },
      "execution_count": 28,
      "outputs": [
        {
          "output_type": "stream",
          "name": "stdout",
          "text": [
            "Dataset extracted to: /content/cats_and_dogs_filtered/\n"
          ]
        }
      ]
    },
    {
      "cell_type": "code",
      "source": [
        "# Check the extracted folder and its contents\n",
        "import os\n",
        "base_dir = '/content/cats_and_dogs_filtered'\n",
        "\n",
        "train_dir = os.path.join(base_dir, 'train')\n",
        "validation_dir = os.path.join(base_dir, 'validation')\n",
        "\n",
        "# Verify the directories\n",
        "print(\"Train Directory:\", train_dir)\n",
        "print(\"Validation Directory:\", validation_dir)\n",
        "\n",
        "# List the directories inside 'train' and 'validation' to ensure it's properly extracted\n",
        "print(\"Train Subdirectories:\", os.listdir(train_dir))\n",
        "print(\"Validation Subdirectories:\", os.listdir(validation_dir))\n"
      ],
      "metadata": {
        "colab": {
          "base_uri": "https://localhost:8080/"
        },
        "id": "D2W3FvxLVPzK",
        "outputId": "cad602cc-4cc1-4a26-9940-d81d92201a28"
      },
      "execution_count": 29,
      "outputs": [
        {
          "output_type": "stream",
          "name": "stdout",
          "text": [
            "Train Directory: /content/cats_and_dogs_filtered/train\n",
            "Validation Directory: /content/cats_and_dogs_filtered/validation\n",
            "Train Subdirectories: ['cats', 'dogs']\n",
            "Validation Subdirectories: ['cats', 'dogs']\n"
          ]
        }
      ]
    },
    {
      "cell_type": "code",
      "source": [
        "print(\"Train Directory: /content/cats_and_dogs_filtered/train\")\n",
        "print(\"Validation Directory: /content/cats_and_dogs_filtered/validation\")\n",
        "print(\"Train Subdirectories: ['cats', 'dogs']\")\n",
        "print(\"Validation Subdirectories: ['cats', 'dogs']\")\n"
      ],
      "metadata": {
        "colab": {
          "base_uri": "https://localhost:8080/"
        },
        "id": "FF4bjLgkXSs9",
        "outputId": "d0d1e6d9-b639-4255-de05-04af97abeaa2"
      },
      "execution_count": 37,
      "outputs": [
        {
          "output_type": "stream",
          "name": "stdout",
          "text": [
            "Train Directory: /content/cats_and_dogs_filtered/train\n",
            "Validation Directory: /content/cats_and_dogs_filtered/validation\n",
            "Train Subdirectories: ['cats', 'dogs']\n",
            "Validation Subdirectories: ['cats', 'dogs']\n"
          ]
        }
      ]
    },
    {
      "cell_type": "code",
      "source": [
        "from tensorflow.keras.preprocessing.image import ImageDataGenerator\n",
        "\n",
        "# Set up ImageDataGenerator\n",
        "train_datagen = ImageDataGenerator(rescale=1./255)\n",
        "val_datagen = ImageDataGenerator(rescale=1./255)\n",
        "\n",
        "# Load the training and validation data\n",
        "train_generator = train_datagen.flow_from_directory(\n",
        "    train_dir,\n",
        "    target_size=(150, 150),\n",
        "    batch_size=32,\n",
        "    class_mode='binary'\n",
        ")\n",
        "\n",
        "val_generator = val_datagen.flow_from_directory(\n",
        "    validation_dir,\n",
        "    target_size=(150, 150),\n",
        "    batch_size=32,\n",
        "    class_mode='binary'\n",
        ")\n"
      ],
      "metadata": {
        "colab": {
          "base_uri": "https://localhost:8080/"
        },
        "id": "EPTJxnsCYM7y",
        "outputId": "910a007b-278c-45a3-ff26-6e444288dddc"
      },
      "execution_count": 38,
      "outputs": [
        {
          "output_type": "stream",
          "name": "stdout",
          "text": [
            "Found 2000 images belonging to 2 classes.\n",
            "Found 1000 images belonging to 2 classes.\n"
          ]
        }
      ]
    },
    {
      "cell_type": "code",
      "source": [
        "train_dir = \"/content/cats_and_dogs_filtered/train\"\n",
        "validation_dir = \"/content/cats_and_dogs_filtered/validation\"\n"
      ],
      "metadata": {
        "id": "KkYtJxBpYod4"
      },
      "execution_count": 42,
      "outputs": []
    },
    {
      "cell_type": "code",
      "source": [
        "model = tf.keras.Sequential([\n",
        "    tf.keras.layers.Conv2D(32, (3,3), activation='relu', input_shape=(150,150,3)),\n",
        "    tf.keras.layers.MaxPooling2D(2,2),\n",
        "    tf.keras.layers.Conv2D(64, (3,3), activation='relu'),\n",
        "    tf.keras.layers.MaxPooling2D(2,2),\n",
        "    tf.keras.layers.Flatten(),\n",
        "    tf.keras.layers.Dense(128, activation='relu'),\n",
        "    tf.keras.layers.Dense(1, activation='sigmoid')\n",
        "])\n",
        "\n",
        "model.compile(optimizer='adam', loss='binary_crossentropy', metrics=['accuracy'])\n"
      ],
      "metadata": {
        "id": "i9a7fruVY-oz"
      },
      "execution_count": 43,
      "outputs": []
    },
    {
      "cell_type": "code",
      "source": [
        "model.fit(train_generator, validation_data=val_generator, epochs=3)\n"
      ],
      "metadata": {
        "colab": {
          "base_uri": "https://localhost:8080/"
        },
        "id": "iGat26UJYrLr",
        "outputId": "5ad22404-0681-46fa-abbb-686ecfdda3a6"
      },
      "execution_count": 44,
      "outputs": [
        {
          "output_type": "stream",
          "name": "stderr",
          "text": [
            "/usr/local/lib/python3.11/dist-packages/keras/src/trainers/data_adapters/py_dataset_adapter.py:121: UserWarning: Your `PyDataset` class should call `super().__init__(**kwargs)` in its constructor. `**kwargs` can include `workers`, `use_multiprocessing`, `max_queue_size`. Do not pass these arguments to `fit()`, as they will be ignored.\n",
            "  self._warn_if_super_not_called()\n"
          ]
        },
        {
          "output_type": "stream",
          "name": "stdout",
          "text": [
            "Epoch 1/3\n",
            "\u001b[1m63/63\u001b[0m \u001b[32m━━━━━━━━━━━━━━━━━━━━\u001b[0m\u001b[37m\u001b[0m \u001b[1m97s\u001b[0m 2s/step - accuracy: 0.4980 - loss: 1.1785 - val_accuracy: 0.6380 - val_loss: 0.6439\n",
            "Epoch 2/3\n",
            "\u001b[1m63/63\u001b[0m \u001b[32m━━━━━━━━━━━━━━━━━━━━\u001b[0m\u001b[37m\u001b[0m \u001b[1m96s\u001b[0m 2s/step - accuracy: 0.6796 - loss: 0.6129 - val_accuracy: 0.6790 - val_loss: 0.5957\n",
            "Epoch 3/3\n",
            "\u001b[1m63/63\u001b[0m \u001b[32m━━━━━━━━━━━━━━━━━━━━\u001b[0m\u001b[37m\u001b[0m \u001b[1m92s\u001b[0m 1s/step - accuracy: 0.7687 - loss: 0.4791 - val_accuracy: 0.6740 - val_loss: 0.6310\n"
          ]
        },
        {
          "output_type": "execute_result",
          "data": {
            "text/plain": [
              "<keras.src.callbacks.history.History at 0x7c8b470a8950>"
            ]
          },
          "metadata": {},
          "execution_count": 44
        }
      ]
    },
    {
      "cell_type": "code",
      "source": [
        "import gradio as gr\n",
        "import numpy as np\n",
        "from PIL import Image\n",
        "\n",
        "def predict(image):\n",
        "    image = image.resize((150, 150))\n",
        "    img_array = np.array(image) / 255.0\n",
        "    img_array = img_array.reshape(1, 150, 150, 3)\n",
        "    prediction = model.predict(img_array)[0][0]\n",
        "    return \"Dog 🐶\" if prediction > 0.5 else \"Cat 🐱\"\n",
        "\n",
        "gr.Interface(\n",
        "    fn=predict,\n",
        "    inputs=gr.Image(type=\"pil\"),\n",
        "    outputs=\"text\",\n",
        "    title=\"Cat vs Dog Classifier 🐱🐶\",\n",
        "    description=\"Upload a picture of a cat or a dog. The model will predict which it is!\"\n",
        ").launch(debug=True)\n"
      ],
      "metadata": {
        "colab": {
          "base_uri": "https://localhost:8080/",
          "height": 663
        },
        "id": "KfaBWe0rZhwr",
        "outputId": "19c55386-4d7b-4e9d-ed14-baca113bf99c"
      },
      "execution_count": null,
      "outputs": [
        {
          "output_type": "stream",
          "name": "stdout",
          "text": [
            "Running Gradio in a Colab notebook requires sharing enabled. Automatically setting `share=True` (you can turn this off by setting `share=False` in `launch()` explicitly).\n",
            "\n",
            "Colab notebook detected. This cell will run indefinitely so that you can see errors and logs. To turn off, set debug=False in launch().\n",
            "* Running on public URL: https://77a1f4cf6300dbf74d.gradio.live\n",
            "\n",
            "This share link expires in 72 hours. For free permanent hosting and GPU upgrades, run `gradio deploy` from the terminal in the working directory to deploy to Hugging Face Spaces (https://huggingface.co/spaces)\n"
          ]
        },
        {
          "output_type": "display_data",
          "data": {
            "text/plain": [
              "<IPython.core.display.HTML object>"
            ],
            "text/html": [
              "<div><iframe src=\"https://77a1f4cf6300dbf74d.gradio.live\" width=\"100%\" height=\"500\" allow=\"autoplay; camera; microphone; clipboard-read; clipboard-write;\" frameborder=\"0\" allowfullscreen></iframe></div>"
            ]
          },
          "metadata": {}
        },
        {
          "output_type": "stream",
          "name": "stdout",
          "text": [
            "\u001b[1m1/1\u001b[0m \u001b[32m━━━━━━━━━━━━━━━━━━━━\u001b[0m\u001b[37m\u001b[0m \u001b[1m0s\u001b[0m 177ms/step\n"
          ]
        }
      ]
    }
  ]
}